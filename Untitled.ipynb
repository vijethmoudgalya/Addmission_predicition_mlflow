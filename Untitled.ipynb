{
 "cells": [
  {
   "cell_type": "code",
   "execution_count": 1,
   "id": "baad6dc5",
   "metadata": {},
   "outputs": [],
   "source": [
    "import warnings\n",
    "from confuse.templates import REQUIRED\n",
    "import numpy as np\n",
    "import pandas as pd\n",
    "import scipy.stats as stats\n",
    "import matplotlib.pyplot as plt\n",
    "import seaborn as sns\n",
    "from sklearn.preprocessing import StandardScaler\n",
    "from sklearn.metrics import mean_squared_error, mean_absolute_error, r2_score\n",
    "from sklearn.model_selection import train_test_split\n",
    "from sklearn.linear_model import Ridge,Lasso,RidgeCV,LassoCV,ElasticNet,ElasticNetCV,LinearRegression\n",
    "import statsmodels.api as sm\n",
    "import mlflow\n",
    "import mlflow.sklearn\n",
    "from urllib.parse import urlparse\n",
    "import logging"
   ]
  },
  {
   "cell_type": "code",
   "execution_count": 2,
   "id": "08c652ed",
   "metadata": {},
   "outputs": [],
   "source": [
    "logging.basicConfig(filename='logging_1.log',level=logging.WARN)\n",
    "logger = logging.getLogger(__name__)"
   ]
  },
  {
   "cell_type": "code",
   "execution_count": 3,
   "id": "7ed02942",
   "metadata": {},
   "outputs": [],
   "source": [
    "def eval_metrics(actual, pred):\n",
    "    rmse = np.sqrt(mean_squared_error(actual, pred))\n",
    "    mae = mean_absolute_error(actual, pred)\n",
    "    r2 = r2_score(actual, pred)\n",
    "    return rmse, mae, r2\n"
   ]
  },
  {
   "cell_type": "code",
   "execution_count": 6,
   "id": "5daef979",
   "metadata": {},
   "outputs": [
    {
     "ename": "SyntaxError",
     "evalue": "invalid syntax (1254179809.py, line 22)",
     "output_type": "error",
     "traceback": [
      "\u001b[0;36m  File \u001b[0;32m\"/tmp/ipykernel_101286/1254179809.py\"\u001b[0;36m, line \u001b[0;32m22\u001b[0m\n\u001b[0;31m    with mlflow.start_run():\u001b[0m\n\u001b[0m    ^\u001b[0m\n\u001b[0;31mSyntaxError\u001b[0m\u001b[0;31m:\u001b[0m invalid syntax\n"
     ]
    }
   ],
   "source": [
    "warnings.filterwarnings('ignore')\n",
    "np.random.seed(40)\n",
    "try:\n",
    "    file_name = 'admission.csv'\n",
    "    data = pd.read_csv(file_name)\n",
    "    data['GRE Score'] = data['GRE Score'].fillna(data['GRE Score'].mean())\n",
    "    data['TOEFL Score'] = data['TOEFL Score'].fillna(data['TOEFL Score'].mean())\n",
    "    data['University Rating'] = data['University Rating'].fillna(data['University Rating'].mean())\n",
    "\n",
    "# delete the serial no column\n",
    "    data.drop(columns=['Serial No.'],inplace=True)\n",
    "\n",
    "    x = data.drop(columns=['Chance of Admit'])\n",
    "    y = data['Chance of Admit']\n",
    "\n",
    "    scalar = StandardScaler()\n",
    "    arr = scalar.fit_transform(x)\n",
    "    X_train,X_test,y_train,y_test = train_test_split(arr,y, random_state=120, test_size=0.25)\n",
    "\n",
    "\n",
    "    \n",
    "with mlflow.start_run():\n",
    "    lr  = LinearRegression()\n",
    "    lr.fit(X_train, y_train)\n",
    "\n",
    "    prediction = lr.predict(X_test)\n",
    "    (rmse,mae,r2) = eval_metrics(y_test,prediction)\n",
    "\n",
    "    print(\"LinearRegression model\")\n",
    "    print(\"RMSE %s\" %rmse)\n",
    "    print(\"MAE %s\" %mae)\n",
    "    print(\"r2 %s\" %r2)\n",
    "\n",
    "    mlflow.log_param(\"intercept\", lr.intercept_)\n",
    "    mlflow.log_metric(\"rmse\", rmse)\n",
    "    mlflow.log_metric(\"r2\", r2)\n",
    "    mlflow.log_metric(\"mae\", mae)\n",
    "\n",
    "    tracking_url_type_store = urlparse(mlflow.get_tracking_uri()).scheme\n",
    "\n",
    "    if tracking_url_type_store != \"file\":\n",
    "        mlflow.sklearn.log_model(lr, \"model\", registered_model_name=\"Linear Regression model\")\n",
    "    else:\n",
    "        mlflow.sklearn.log_model(lr,\"model\")"
   ]
  },
  {
   "cell_type": "code",
   "execution_count": null,
   "id": "ada3ac55",
   "metadata": {},
   "outputs": [],
   "source": []
  }
 ],
 "metadata": {
  "kernelspec": {
   "display_name": "Python 3 (ipykernel)",
   "language": "python",
   "name": "python3"
  },
  "language_info": {
   "codemirror_mode": {
    "name": "ipython",
    "version": 3
   },
   "file_extension": ".py",
   "mimetype": "text/x-python",
   "name": "python",
   "nbconvert_exporter": "python",
   "pygments_lexer": "ipython3",
   "version": "3.9.6"
  }
 },
 "nbformat": 4,
 "nbformat_minor": 5
}
